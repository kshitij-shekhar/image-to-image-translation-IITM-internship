{
 "cells": [
  {
   "cell_type": "code",
   "execution_count": 1,
   "id": "f351a5bb",
   "metadata": {},
   "outputs": [],
   "source": [
    "import os\n",
    "import random\n",
    "import shutil\n",
    "\n",
    "def pick_random_images(source_dir, target_dir, output_dir, num_images):\n",
    "    # Create output directory if it doesn't exist\n",
    "    if not os.path.exists(output_dir):\n",
    "        os.makedirs(output_dir)\n",
    "\n",
    "    # Get list of files in source directory\n",
    "    source_files = os.listdir(source_dir)\n",
    "    # Shuffle the list of files\n",
    "    random.shuffle(source_files)\n",
    "    # Pick first num_images files\n",
    "    selected_files = source_files[:num_images]\n",
    "\n",
    "    # Copy selected files from source directory to output directory\n",
    "    for file in selected_files:\n",
    "        source_path = os.path.join(source_dir, file)\n",
    "        output_path = os.path.join(output_dir+\"/trainA/\", file)\n",
    "        shutil.copy(source_path, output_path)\n",
    "\n",
    "        # Find corresponding file in target directory with the same name\n",
    "        target_path = os.path.join(target_dir, file)\n",
    "        # If the corresponding file exists, copy it to the output directory\n",
    "        if os.path.exists(target_path):\n",
    "            output_target_path = os.path.join(output_dir+\"/trainB/\", file)\n",
    "            shutil.copy(target_path, output_target_path)\n",
    "\n",
    "# Paths to source and target directories\n",
    "source_directory = \"./BCI_dataset_uneven/trainA/\"\n",
    "target_directory = \"./BCI_dataset_uneven/trainB/\"\n",
    "# Path to the output directory\n",
    "output_directory = \"./BCI_Dataset_100/\"\n",
    "# Number of random images to select\n",
    "num_images = 100\n",
    "\n",
    "# Call the function to pick random images and copy them to the output directory\n",
    "pick_random_images(source_directory, target_directory, output_directory, num_images)\n"
   ]
  },
  {
   "cell_type": "code",
   "execution_count": null,
   "id": "20fac846",
   "metadata": {},
   "outputs": [],
   "source": []
  }
 ],
 "metadata": {
  "kernelspec": {
   "display_name": "Python 3 (ipykernel)",
   "language": "python",
   "name": "python3"
  },
  "language_info": {
   "codemirror_mode": {
    "name": "ipython",
    "version": 3
   },
   "file_extension": ".py",
   "mimetype": "text/x-python",
   "name": "python",
   "nbconvert_exporter": "python",
   "pygments_lexer": "ipython3",
   "version": "3.10.12"
  }
 },
 "nbformat": 4,
 "nbformat_minor": 5
}
